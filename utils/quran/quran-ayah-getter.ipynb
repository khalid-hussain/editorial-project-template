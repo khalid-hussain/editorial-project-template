{
 "cells": [
  {
   "cell_type": "code",
   "execution_count": null,
   "metadata": {},
   "outputs": [],
   "source": [
    "# Do not edit this segment\n",
    "import pandas as pd\n",
    "\n",
    "filename = 'hafsData_v18.csv'\n",
    "mCSV = pd.read_csv(filename)\n",
    "\n",
    "df = mCSV[[\"id\",\"sora\",\"sora_name_en\", \"sora_name_ar\",\"aya_no\", \"aya_text\",\"aya_text_emlaey\"]]\n",
    "\n",
    "def seeker(data, location):\n",
    "    surah = data[data['sora'] == location[0]]\n",
    "\n",
    "    if len(location) == 1:\n",
    "        return surah\n",
    "    if len(location) == 2:\n",
    "        return surah[surah['aya_no'] == location[1]]\n",
    "    elif len(location) == 3:\n",
    "        return surah[(surah['aya_no'] >= location[1]) & (surah['aya_no'] <= location[2])]\n"
   ]
  },
  {
   "cell_type": "code",
   "execution_count": null,
   "metadata": {},
   "outputs": [
    {
     "data": {
      "text/plain": [
       "'خِتَٰمُهُۥ مِسۡكٞۚ وَفِي ذَٰلِكَ فَلۡيَتَنَافَسِ ٱلۡمُتَنَٰفِسُونَ\\xa0٢٦'"
      ]
     },
     "execution_count": 2,
     "metadata": {},
     "output_type": "execute_result"
    }
   ],
   "source": [
    "# Use this for a single ayah.\n",
    "# location = [surah_number, ayah_number]\n",
    "location = [83,26]\n",
    "result = ' '.join(seeker(df, location)['aya_text'])\n",
    "result"
   ]
  },
  {
   "cell_type": "code",
   "execution_count": null,
   "metadata": {},
   "outputs": [
    {
     "name": "stdout",
     "output_type": "stream",
     "text": [
      "أمن خلق السموات والأرض وأنزل لكم من السماء ماء فأنبتنا به حدائق ذات بهجة ما كان لكم أن تنبتوا شجرها أإله مع الله بل هم قوم يعدلون أمن جعل الأرض قرارا وجعل خلالها أنهارا وجعل لها رواسي وجعل بين البحرين حاجزا أإله مع الله بل أكثرهم لا يعلمون\n"
     ]
    }
   ],
   "source": [
    "# Use this for a multiple consecutive ayahs.\n",
    "# location = [surah_number, starting_ayah_number, ending_ayah_number]\n",
    "location = [2,60,61];\n",
    "result = ' '.join(seeker(df, location)['aya_text_emlaey'])\n",
    "print(result)"
   ]
  }
 ],
 "metadata": {
  "kernelspec": {
   "display_name": "Python 3",
   "language": "python",
   "name": "python3"
  },
  "language_info": {
   "codemirror_mode": {
    "name": "ipython",
    "version": 3
   },
   "file_extension": ".py",
   "mimetype": "text/x-python",
   "name": "python",
   "nbconvert_exporter": "python",
   "pygments_lexer": "ipython3",
   "version": "3.12.5"
  },
  "orig_nbformat": 4
 },
 "nbformat": 4,
 "nbformat_minor": 2
}
